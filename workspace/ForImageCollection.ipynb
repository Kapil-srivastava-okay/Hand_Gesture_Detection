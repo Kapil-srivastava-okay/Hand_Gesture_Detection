{
 "cells": [
  {
   "cell_type": "markdown",
   "id": "0ce7298d",
   "metadata": {},
   "source": [
    "#### Used for image collection"
   ]
  },
  {
   "cell_type": "code",
   "execution_count": 1,
   "id": "39565ac3",
   "metadata": {},
   "outputs": [],
   "source": [
    "import cv2\n",
    "import os\n",
    "import time\n",
    "import uuid"
   ]
  },
  {
   "cell_type": "code",
   "execution_count": 2,
   "id": "b2687e66",
   "metadata": {},
   "outputs": [],
   "source": [
    "IMAGES_PATH = 'Tensorflow\\workspace\\images\\CollectedImages'"
   ]
  },
  {
   "cell_type": "code",
   "execution_count": 3,
   "id": "976b288d",
   "metadata": {},
   "outputs": [],
   "source": [
    "labels = ['Hello', 'ThankYou', 'Yes', 'No', 'ILoveYou', 'Good', 'Excellent', 'Enjoy', 'BestOfLuck', 'HowAreYou']\n",
    "number_imgs = 5"
   ]
  },
  {
   "cell_type": "code",
   "execution_count": null,
   "id": "aaaabff9",
   "metadata": {},
   "outputs": [
    {
     "name": "stdout",
     "output_type": "stream",
     "text": [
      "Collecting images for Hello\n",
      "Collecting images for ThankYou\n",
      "Collecting images for Yes\n",
      "Collecting images for No\n",
      "Collecting images for ILoveYou\n",
      "Collecting images for Good\n",
      "Collecting images for Excellent\n",
      "Collecting images for Enjoy\n",
      "Collecting images for BestOfLuck\n",
      "Collecting images for HowAreYou\n"
     ]
    }
   ],
   "source": [
    "for label in labels:\n",
    "    !mkdir {'Tensorflow\\workspace\\images\\CollectedImages\\\\'+label}\n",
    "    cap = cv2.VideoCapture(0)\n",
    "    print('Collecting images for {}'.format(label))\n",
    "    time.sleep(5)\n",
    "    for imgnum in range(number_imgs):\n",
    "        ret, frame = cap.read()\n",
    "        imgname = os.path.join(IMAGES_PATH, label, label+'.'+'{}.jpg'.format(str(uuid.uuid1())))\n",
    "        cv2.imwrite(imgname, frame)\n",
    "        cv2.imshow('frame', frame)\n",
    "        time.sleep(2)\n",
    "        \n",
    "#         if cv2.waitkey(1) & 0xFF == ord('q'):\n",
    "#             break\n",
    "    cap.release()"
   ]
  },
  {
   "cell_type": "code",
   "execution_count": null,
   "id": "fdb39046",
   "metadata": {},
   "outputs": [],
   "source": []
  }
 ],
 "metadata": {
  "kernelspec": {
   "display_name": "Python 3 (ipykernel)",
   "language": "python",
   "name": "python3"
  },
  "language_info": {
   "codemirror_mode": {
    "name": "ipython",
    "version": 3
   },
   "file_extension": ".py",
   "mimetype": "text/x-python",
   "name": "python",
   "nbconvert_exporter": "python",
   "pygments_lexer": "ipython3",
   "version": "3.11.1"
  }
 },
 "nbformat": 4,
 "nbformat_minor": 5
}
